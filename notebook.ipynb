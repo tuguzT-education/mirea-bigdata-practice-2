{
 "cells": [
  {
   "cell_type": "markdown",
   "metadata": {},
   "source": [
    "# Практическая работа 2"
   ]
  },
  {
   "cell_type": "markdown",
   "source": [
    "Для выполнения заданий данной практической работы, необходимо\n",
    "воспользоваться сторонними библиотеками `numpy` и `pandas`:"
   ],
   "metadata": {
    "collapsed": false
   }
  },
  {
   "cell_type": "code",
   "execution_count": 1,
   "outputs": [],
   "source": [
    "import numpy as np\n",
    "import pandas as pd"
   ],
   "metadata": {
    "collapsed": false
   }
  },
  {
   "cell_type": "markdown",
   "metadata": {},
   "source": [
    "## Задание 1\n",
    "\n",
    "Напишите программу, которая считывает с консоли числа (по одному в строке)\n",
    "до тех пор, пока сумма введённых чисел не будет равна 0 и после этого\n",
    "выводит сумму квадратов всех считанных чисел."
   ]
  },
  {
   "cell_type": "markdown",
   "source": [
    "Сначала напишем функцию для решения задачи:"
   ],
   "metadata": {
    "collapsed": false
   }
  },
  {
   "cell_type": "code",
   "execution_count": 2,
   "metadata": {},
   "outputs": [],
   "source": [
    "from typing import Callable\n",
    "\n",
    "\n",
    "# noinspection PyShadowingNames\n",
    "def task_1(factory: Callable[[], float] = lambda: float(input())) -> list[float]:\n",
    "    nums = []\n",
    "    while True:\n",
    "        result = factory()\n",
    "        nums.append(result)\n",
    "        if sum(nums) == 0:\n",
    "            return nums"
   ]
  },
  {
   "cell_type": "markdown",
   "source": [
    "Затем сам запускаемый скрипт:"
   ],
   "metadata": {
    "collapsed": false
   }
  },
  {
   "cell_type": "code",
   "execution_count": 3,
   "outputs": [
    {
     "name": "stdout",
     "output_type": "stream",
     "text": [
      "Введите числа по одному на строке\n",
      "Введенные числа: [-1.0, 1.0]\n",
      "Сумма их квадратов: 2.0\n"
     ]
    }
   ],
   "source": [
    "def factory() -> float:\n",
    "    try:\n",
    "        return float(input('Введите число: '))\n",
    "    except ValueError:\n",
    "        print('Неверный ввод! Необходимо вводить именно числа!!!')\n",
    "        return factory()\n",
    "\n",
    "print('Введите числа по одному на строке')\n",
    "nums = task_1(factory)\n",
    "print(f'Введенные числа: {nums}')\n",
    "print(f'Сумма их квадратов: {sum(x**2 for x in nums)}')"
   ],
   "metadata": {
    "collapsed": false
   }
  },
  {
   "cell_type": "markdown",
   "metadata": {},
   "source": [
    "## Задание 2\n",
    "\n",
    "Напишите программу, которая выводит последовательность чисел,\n",
    "длинною N, где каждое число повторяется столько раз, чему оно равно.\n",
    "На вход программе передаётся неотрицательное целое число N.\n",
    "\n",
    "Например, если N = 7, то программа должна вывести `1 2 2 3 3 3 4`. Вывод\n",
    "элементов списка через пробел – `print(*list)`."
   ]
  },
  {
   "cell_type": "markdown",
   "source": [
    "Сначала напишем функцию для решения задачи:"
   ],
   "metadata": {
    "collapsed": false
   }
  },
  {
   "cell_type": "code",
   "execution_count": 4,
   "outputs": [],
   "source": [
    "# noinspection PyShadowingNames\n",
    "def task_2(n: int) -> list[int]:\n",
    "    nums = [0] * n\n",
    "    current, count = 1, 0\n",
    "    for i in range(n):\n",
    "        if count == current:\n",
    "            current += 1\n",
    "            count = 0\n",
    "        nums[i] = current\n",
    "        count += 1\n",
    "    return nums"
   ],
   "metadata": {
    "collapsed": false
   }
  },
  {
   "cell_type": "markdown",
   "source": [
    "Затем сам запускаемый скрипт:"
   ],
   "metadata": {
    "collapsed": false
   }
  },
  {
   "cell_type": "code",
   "execution_count": 5,
   "outputs": [
    {
     "name": "stdout",
     "output_type": "stream",
     "text": [
      "Получившаяся последовательность: 1 2 2 3 3 3 4\n"
     ]
    }
   ],
   "source": [
    "try:\n",
    "    n = int(input('Введите длину последовательности: '))\n",
    "    nums = task_2(n)\n",
    "    print('Получившаяся последовательность:', *nums)\n",
    "except ValueError:\n",
    "    print('Необходимо ввести целочисленное число!')"
   ],
   "metadata": {
    "collapsed": false
   }
  },
  {
   "cell_type": "markdown",
   "metadata": {},
   "source": [
    "## Задание 3\n",
    "\n",
    "Матрицу произвольного размера вытянуть в один вектор, не применяя\n",
    "встроенные методы Python. Пример:\n",
    "\n",
    "![Пример](task-3.png)\n",
    "\n",
    "Для создания матрицы можно использовать `np.random.rand(кол-во строк, кол-во столбцов)`."
   ]
  },
  {
   "cell_type": "markdown",
   "source": [
    "Сначала напишем функцию для решения задачи:"
   ],
   "metadata": {
    "collapsed": false
   }
  },
  {
   "cell_type": "code",
   "execution_count": 6,
   "outputs": [],
   "source": [
    "# noinspection PyShadowingNames\n",
    "def task_3(matrix: list) -> list:\n",
    "    return [item for row in matrix for item in row]"
   ],
   "metadata": {
    "collapsed": false
   }
  },
  {
   "cell_type": "markdown",
   "source": [
    "Затем сам запускаемый скрипт:"
   ],
   "metadata": {
    "collapsed": false
   }
  },
  {
   "cell_type": "code",
   "execution_count": 7,
   "outputs": [
    {
     "name": "stdout",
     "output_type": "stream",
     "text": [
      "Исходная матрица 4x5:\n",
      "[[0.3997809  0.35009943 0.00374421 0.91216325 0.18144477]\n",
      " [0.62693054 0.73834913 0.43244623 0.64409071 0.22409519]\n",
      " [0.06110247 0.85338614 0.89997565 0.67894673 0.74488785]\n",
      " [0.82798114 0.57479843 0.94138073 0.89649212 0.87676101]]\n",
      "\n",
      "Результат — вытянутый вектор в 4x5=20 элементов:\n",
      "[0.39978089996617283, 0.35009942719778164, 0.003744211708780587, 0.9121632534890141, 0.18144477036741358, 0.6269305447150395, 0.7383491302786143, 0.43244623399614857, 0.6440907104143582, 0.22409519073409512, 0.06110246946182896, 0.8533861394063028, 0.8999756497064734, 0.6789467301289462, 0.7448878548658572, 0.8279811373078044, 0.5747984343426413, 0.9413807346887707, 0.8964921186308241, 0.8767610144641647]\n"
     ]
    }
   ],
   "source": [
    "try:\n",
    "    rows = int(input('Введите число строк матрицы: '))\n",
    "    columns = int(input('Введите число столбцов матрицы: '))\n",
    "    matrix = np.random.rand(rows, columns)\n",
    "    print(f\"Исходная матрица {rows}x{columns}:\", matrix, sep='\\n', end='\\n\\n')\n",
    "    print(f\"Результат — вытянутый вектор в {rows}x{columns}={rows * columns} элементов:\", task_3(matrix), sep='\\n')\n",
    "except ValueError:\n",
    "    print('Необходимо ввести целые числа!')"
   ],
   "metadata": {
    "collapsed": false
   }
  },
  {
   "cell_type": "markdown",
   "metadata": {},
   "source": [
    "## Задание 4\n",
    "\n",
    "Даны два списка:\n",
    "\n",
    "```\n",
    "А = [1, 2, 3, 4, 2, 1, 3, 4, 5, 6, 5, 4, 3, 2]\n",
    "\n",
    "В = ['a', 'b', 'c', 'c', 'c', 'b', 'a', 'c', 'a', 'a', 'b', 'c', 'b', 'a']\n",
    "```\n",
    "\n",
    "Создать словарь, в котором ключи – это содержимое списка В, а\n",
    "значения для ключей словаря – это сумма всех элементов списка А в\n",
    "соответствии с буквой, содержащийся на той же позиции в списке В.\n",
    "\n",
    "Пример результата программы: `{'a' : 10, 'b' : 15, 'c' : 6}`."
   ]
  },
  {
   "cell_type": "markdown",
   "source": [
    "Сначала напишем функцию для решения задачи:"
   ],
   "metadata": {
    "collapsed": false
   }
  },
  {
   "cell_type": "code",
   "execution_count": 8,
   "outputs": [],
   "source": [
    "# noinspection PyShadowingNames\n",
    "def task_4(a: list[int], b: list[str]) -> dict[str, int]:\n",
    "    result = {}\n",
    "    for a, b in zip(a, b):\n",
    "        if b not in result:\n",
    "            result[b] = 0\n",
    "        result[b] += a\n",
    "    return result"
   ],
   "metadata": {
    "collapsed": false
   }
  },
  {
   "cell_type": "markdown",
   "source": [
    "Затем сам запускаемый скрипт:"
   ],
   "metadata": {
    "collapsed": false
   }
  },
  {
   "cell_type": "code",
   "execution_count": 9,
   "outputs": [
    {
     "name": "stdout",
     "output_type": "stream",
     "text": [
      "Результат выполнения алгоритма: {'a': 17, 'b': 11, 'c': 17}\n"
     ]
    }
   ],
   "source": [
    "a = [1, 2, 3, 4, 2, 1, 3, 4, 5, 6, 5, 4, 3, 2]\n",
    "b = ['a', 'b', 'c', 'c', 'c', 'b', 'a', 'c', 'a', 'a', 'b', 'c', 'b', 'a']\n",
    "assert len(a) == len(b)\n",
    "result = task_4(a, b)\n",
    "print(f'Результат выполнения алгоритма: {result}')"
   ],
   "metadata": {
    "collapsed": false
   }
  },
  {
   "cell_type": "markdown",
   "metadata": {},
   "source": [
    "## Задание 5\n",
    "\n",
    "Скачать и загрузить данные о стоимости домов в Калифорнии, используя библиотеку sklearn.\n",
    "\n",
    "![Картинка](task-5.png)"
   ]
  },
  {
   "cell_type": "code",
   "execution_count": 10,
   "outputs": [
    {
     "data": {
      "text/plain": "{'data':        MedInc  HouseAge  AveRooms  AveBedrms  Population  AveOccup  Latitude  \\\n 0      8.3252      41.0  6.984127   1.023810       322.0  2.555556     37.88   \n 1      8.3014      21.0  6.238137   0.971880      2401.0  2.109842     37.86   \n 2      7.2574      52.0  8.288136   1.073446       496.0  2.802260     37.85   \n 3      5.6431      52.0  5.817352   1.073059       558.0  2.547945     37.85   \n 4      3.8462      52.0  6.281853   1.081081       565.0  2.181467     37.85   \n ...       ...       ...       ...        ...         ...       ...       ...   \n 20635  1.5603      25.0  5.045455   1.133333       845.0  2.560606     39.48   \n 20636  2.5568      18.0  6.114035   1.315789       356.0  3.122807     39.49   \n 20637  1.7000      17.0  5.205543   1.120092      1007.0  2.325635     39.43   \n 20638  1.8672      18.0  5.329513   1.171920       741.0  2.123209     39.43   \n 20639  2.3886      16.0  5.254717   1.162264      1387.0  2.616981     39.37   \n \n        Longitude  \n 0        -122.23  \n 1        -122.22  \n 2        -122.24  \n 3        -122.25  \n 4        -122.25  \n ...          ...  \n 20635    -121.09  \n 20636    -121.21  \n 20637    -121.22  \n 20638    -121.32  \n 20639    -121.24  \n \n [20640 rows x 8 columns],\n 'target': 0        4.526\n 1        3.585\n 2        3.521\n 3        3.413\n 4        3.422\n          ...  \n 20635    0.781\n 20636    0.771\n 20637    0.923\n 20638    0.847\n 20639    0.894\n Name: MedHouseVal, Length: 20640, dtype: float64,\n 'frame':        MedInc  HouseAge  AveRooms  AveBedrms  Population  AveOccup  Latitude  \\\n 0      8.3252      41.0  6.984127   1.023810       322.0  2.555556     37.88   \n 1      8.3014      21.0  6.238137   0.971880      2401.0  2.109842     37.86   \n 2      7.2574      52.0  8.288136   1.073446       496.0  2.802260     37.85   \n 3      5.6431      52.0  5.817352   1.073059       558.0  2.547945     37.85   \n 4      3.8462      52.0  6.281853   1.081081       565.0  2.181467     37.85   \n ...       ...       ...       ...        ...         ...       ...       ...   \n 20635  1.5603      25.0  5.045455   1.133333       845.0  2.560606     39.48   \n 20636  2.5568      18.0  6.114035   1.315789       356.0  3.122807     39.49   \n 20637  1.7000      17.0  5.205543   1.120092      1007.0  2.325635     39.43   \n 20638  1.8672      18.0  5.329513   1.171920       741.0  2.123209     39.43   \n 20639  2.3886      16.0  5.254717   1.162264      1387.0  2.616981     39.37   \n \n        Longitude  MedHouseVal  \n 0        -122.23        4.526  \n 1        -122.22        3.585  \n 2        -122.24        3.521  \n 3        -122.25        3.413  \n 4        -122.25        3.422  \n ...          ...          ...  \n 20635    -121.09        0.781  \n 20636    -121.21        0.771  \n 20637    -121.22        0.923  \n 20638    -121.32        0.847  \n 20639    -121.24        0.894  \n \n [20640 rows x 9 columns],\n 'target_names': ['MedHouseVal'],\n 'feature_names': ['MedInc',\n  'HouseAge',\n  'AveRooms',\n  'AveBedrms',\n  'Population',\n  'AveOccup',\n  'Latitude',\n  'Longitude'],\n 'DESCR': '.. _california_housing_dataset:\\n\\nCalifornia Housing dataset\\n--------------------------\\n\\n**Data Set Characteristics:**\\n\\n    :Number of Instances: 20640\\n\\n    :Number of Attributes: 8 numeric, predictive attributes and the target\\n\\n    :Attribute Information:\\n        - MedInc        median income in block group\\n        - HouseAge      median house age in block group\\n        - AveRooms      average number of rooms per household\\n        - AveBedrms     average number of bedrooms per household\\n        - Population    block group population\\n        - AveOccup      average number of household members\\n        - Latitude      block group latitude\\n        - Longitude     block group longitude\\n\\n    :Missing Attribute Values: None\\n\\nThis dataset was obtained from the StatLib repository.\\nhttps://www.dcc.fc.up.pt/~ltorgo/Regression/cal_housing.html\\n\\nThe target variable is the median house value for California districts,\\nexpressed in hundreds of thousands of dollars ($100,000).\\n\\nThis dataset was derived from the 1990 U.S. census, using one row per census\\nblock group. A block group is the smallest geographical unit for which the U.S.\\nCensus Bureau publishes sample data (a block group typically has a population\\nof 600 to 3,000 people).\\n\\nAn household is a group of people residing within a home. Since the average\\nnumber of rooms and bedrooms in this dataset are provided per household, these\\ncolumns may take surpinsingly large values for block groups with few households\\nand many empty houses, such as vacation resorts.\\n\\nIt can be downloaded/loaded using the\\n:func:`sklearn.datasets.fetch_california_housing` function.\\n\\n.. topic:: References\\n\\n    - Pace, R. Kelley and Ronald Barry, Sparse Spatial Autoregressions,\\n      Statistics and Probability Letters, 33 (1997) 291-297\\n'}"
     },
     "execution_count": 10,
     "metadata": {},
     "output_type": "execute_result"
    }
   ],
   "source": [
    "from sklearn.datasets import fetch_california_housing\n",
    "\n",
    "data = fetch_california_housing(as_frame=True)\n",
    "data"
   ],
   "metadata": {
    "collapsed": false
   }
  },
  {
   "cell_type": "markdown",
   "metadata": {},
   "source": [
    "## Задание 6\n",
    "\n",
    "Используя метод `pd.concat([датафрейм1, датафрейм2], axis = 1)`,\n",
    "добавить к данным столбец, содержащий информацию о медианной\n",
    "стоимости дома (`.target` и `.target_names`)."
   ]
  },
  {
   "cell_type": "code",
   "execution_count": 11,
   "outputs": [
    {
     "data": {
      "text/plain": "   MedInc  HouseAge  AveRooms  AveBedrms  Population  AveOccup  Latitude  \\\n0  8.3252      41.0  6.984127   1.023810       322.0  2.555556     37.88   \n1  8.3014      21.0  6.238137   0.971880      2401.0  2.109842     37.86   \n2  7.2574      52.0  8.288136   1.073446       496.0  2.802260     37.85   \n3  5.6431      52.0  5.817352   1.073059       558.0  2.547945     37.85   \n4  3.8462      52.0  6.281853   1.081081       565.0  2.181467     37.85   \n\n   Longitude  MedHouseVal  \n0    -122.23        4.526  \n1    -122.22        3.585  \n2    -122.24        3.521  \n3    -122.25        3.413  \n4    -122.25        3.422  ",
      "text/html": "<div>\n<style scoped>\n    .dataframe tbody tr th:only-of-type {\n        vertical-align: middle;\n    }\n\n    .dataframe tbody tr th {\n        vertical-align: top;\n    }\n\n    .dataframe thead th {\n        text-align: right;\n    }\n</style>\n<table border=\"1\" class=\"dataframe\">\n  <thead>\n    <tr style=\"text-align: right;\">\n      <th></th>\n      <th>MedInc</th>\n      <th>HouseAge</th>\n      <th>AveRooms</th>\n      <th>AveBedrms</th>\n      <th>Population</th>\n      <th>AveOccup</th>\n      <th>Latitude</th>\n      <th>Longitude</th>\n      <th>MedHouseVal</th>\n    </tr>\n  </thead>\n  <tbody>\n    <tr>\n      <th>0</th>\n      <td>8.3252</td>\n      <td>41.0</td>\n      <td>6.984127</td>\n      <td>1.023810</td>\n      <td>322.0</td>\n      <td>2.555556</td>\n      <td>37.88</td>\n      <td>-122.23</td>\n      <td>4.526</td>\n    </tr>\n    <tr>\n      <th>1</th>\n      <td>8.3014</td>\n      <td>21.0</td>\n      <td>6.238137</td>\n      <td>0.971880</td>\n      <td>2401.0</td>\n      <td>2.109842</td>\n      <td>37.86</td>\n      <td>-122.22</td>\n      <td>3.585</td>\n    </tr>\n    <tr>\n      <th>2</th>\n      <td>7.2574</td>\n      <td>52.0</td>\n      <td>8.288136</td>\n      <td>1.073446</td>\n      <td>496.0</td>\n      <td>2.802260</td>\n      <td>37.85</td>\n      <td>-122.24</td>\n      <td>3.521</td>\n    </tr>\n    <tr>\n      <th>3</th>\n      <td>5.6431</td>\n      <td>52.0</td>\n      <td>5.817352</td>\n      <td>1.073059</td>\n      <td>558.0</td>\n      <td>2.547945</td>\n      <td>37.85</td>\n      <td>-122.25</td>\n      <td>3.413</td>\n    </tr>\n    <tr>\n      <th>4</th>\n      <td>3.8462</td>\n      <td>52.0</td>\n      <td>6.281853</td>\n      <td>1.081081</td>\n      <td>565.0</td>\n      <td>2.181467</td>\n      <td>37.85</td>\n      <td>-122.25</td>\n      <td>3.422</td>\n    </tr>\n  </tbody>\n</table>\n</div>"
     },
     "execution_count": 11,
     "metadata": {},
     "output_type": "execute_result"
    }
   ],
   "source": [
    "data = pd.concat([data.data, data.target], axis=1)\n",
    "data.head()"
   ],
   "metadata": {
    "collapsed": false
   }
  },
  {
   "cell_type": "markdown",
   "metadata": {},
   "source": [
    "## Задание 7\n",
    "\n",
    "Использовать метод info()."
   ]
  },
  {
   "cell_type": "code",
   "execution_count": 12,
   "outputs": [
    {
     "name": "stdout",
     "output_type": "stream",
     "text": [
      "<class 'pandas.core.frame.DataFrame'>\n",
      "RangeIndex: 20640 entries, 0 to 20639\n",
      "Data columns (total 9 columns):\n",
      " #   Column       Non-Null Count  Dtype  \n",
      "---  ------       --------------  -----  \n",
      " 0   MedInc       20640 non-null  float64\n",
      " 1   HouseAge     20640 non-null  float64\n",
      " 2   AveRooms     20640 non-null  float64\n",
      " 3   AveBedrms    20640 non-null  float64\n",
      " 4   Population   20640 non-null  float64\n",
      " 5   AveOccup     20640 non-null  float64\n",
      " 6   Latitude     20640 non-null  float64\n",
      " 7   Longitude    20640 non-null  float64\n",
      " 8   MedHouseVal  20640 non-null  float64\n",
      "dtypes: float64(9)\n",
      "memory usage: 1.4 MB\n"
     ]
    }
   ],
   "source": [
    "data.info()"
   ],
   "metadata": {
    "collapsed": false
   }
  },
  {
   "cell_type": "markdown",
   "metadata": {},
   "source": [
    "## Задание 8\n",
    "\n",
    "Узнать, есть ли пропущенные значения, используя `isna().sum()`."
   ]
  },
  {
   "cell_type": "code",
   "execution_count": 13,
   "outputs": [
    {
     "data": {
      "text/plain": "MedInc         0\nHouseAge       0\nAveRooms       0\nAveBedrms      0\nPopulation     0\nAveOccup       0\nLatitude       0\nLongitude      0\nMedHouseVal    0\ndtype: int64"
     },
     "execution_count": 13,
     "metadata": {},
     "output_type": "execute_result"
    }
   ],
   "source": [
    "data.isna().sum()"
   ],
   "metadata": {
    "collapsed": false
   }
  },
  {
   "cell_type": "markdown",
   "metadata": {},
   "source": [
    "## Задание 9\n",
    "\n",
    "Вывести записи, где средний возраст домов в районе более 50 лет и\n",
    "население более 2500 человек, используя метод `loc()`."
   ]
  },
  {
   "cell_type": "code",
   "execution_count": 14,
   "outputs": [
    {
     "data": {
      "text/plain": "       MedInc  HouseAge  AveRooms  AveBedrms  Population    AveOccup  \\\n460    1.4012      52.0  3.105714   1.060000      3337.0    9.534286   \n4131   3.5349      52.0  4.646119   1.047945      2589.0    5.910959   \n4440   2.6806      52.0  4.806283   1.057592      3062.0    4.007853   \n5986   1.8750      52.0  4.500000   1.206349      2688.0   21.333333   \n7369   3.1901      52.0  4.730942   1.017937      3731.0    4.182735   \n8227   2.3305      52.0  3.488860   1.170380      3018.0    3.955439   \n13034  6.1359      52.0  8.275862   1.517241      6675.0  230.172414   \n15634  1.8295      52.0  2.628169   1.053521      2957.0    4.164789   \n15652  0.9000      52.0  2.237474   1.053535      3260.0    2.237474   \n15657  2.5166      52.0  2.839075   1.184049      3436.0    1.621520   \n15659  1.7240      52.0  2.278566   1.082348      4518.0    1.780142   \n15795  2.5755      52.0  3.402576   1.058776      2619.0    2.108696   \n15868  2.8135      52.0  4.584329   1.041169      2987.0    3.966799   \n\n       Latitude  Longitude  MedHouseVal  \n460       37.87    -122.26      1.75000  \n4131      34.13    -118.20      1.93600  \n4440      34.08    -118.21      1.53000  \n5986      34.10    -117.71      2.12500  \n7369      33.97    -118.21      1.67600  \n8227      33.78    -118.20      1.62500  \n13034     38.69    -121.15      2.25000  \n15634     37.80    -122.41      2.43800  \n15652     37.80    -122.41      5.00001  \n15657     37.79    -122.41      2.75000  \n15659     37.79    -122.41      2.25000  \n15795     37.77    -122.42      3.25000  \n15868     37.76    -122.41      2.60300  ",
      "text/html": "<div>\n<style scoped>\n    .dataframe tbody tr th:only-of-type {\n        vertical-align: middle;\n    }\n\n    .dataframe tbody tr th {\n        vertical-align: top;\n    }\n\n    .dataframe thead th {\n        text-align: right;\n    }\n</style>\n<table border=\"1\" class=\"dataframe\">\n  <thead>\n    <tr style=\"text-align: right;\">\n      <th></th>\n      <th>MedInc</th>\n      <th>HouseAge</th>\n      <th>AveRooms</th>\n      <th>AveBedrms</th>\n      <th>Population</th>\n      <th>AveOccup</th>\n      <th>Latitude</th>\n      <th>Longitude</th>\n      <th>MedHouseVal</th>\n    </tr>\n  </thead>\n  <tbody>\n    <tr>\n      <th>460</th>\n      <td>1.4012</td>\n      <td>52.0</td>\n      <td>3.105714</td>\n      <td>1.060000</td>\n      <td>3337.0</td>\n      <td>9.534286</td>\n      <td>37.87</td>\n      <td>-122.26</td>\n      <td>1.75000</td>\n    </tr>\n    <tr>\n      <th>4131</th>\n      <td>3.5349</td>\n      <td>52.0</td>\n      <td>4.646119</td>\n      <td>1.047945</td>\n      <td>2589.0</td>\n      <td>5.910959</td>\n      <td>34.13</td>\n      <td>-118.20</td>\n      <td>1.93600</td>\n    </tr>\n    <tr>\n      <th>4440</th>\n      <td>2.6806</td>\n      <td>52.0</td>\n      <td>4.806283</td>\n      <td>1.057592</td>\n      <td>3062.0</td>\n      <td>4.007853</td>\n      <td>34.08</td>\n      <td>-118.21</td>\n      <td>1.53000</td>\n    </tr>\n    <tr>\n      <th>5986</th>\n      <td>1.8750</td>\n      <td>52.0</td>\n      <td>4.500000</td>\n      <td>1.206349</td>\n      <td>2688.0</td>\n      <td>21.333333</td>\n      <td>34.10</td>\n      <td>-117.71</td>\n      <td>2.12500</td>\n    </tr>\n    <tr>\n      <th>7369</th>\n      <td>3.1901</td>\n      <td>52.0</td>\n      <td>4.730942</td>\n      <td>1.017937</td>\n      <td>3731.0</td>\n      <td>4.182735</td>\n      <td>33.97</td>\n      <td>-118.21</td>\n      <td>1.67600</td>\n    </tr>\n    <tr>\n      <th>8227</th>\n      <td>2.3305</td>\n      <td>52.0</td>\n      <td>3.488860</td>\n      <td>1.170380</td>\n      <td>3018.0</td>\n      <td>3.955439</td>\n      <td>33.78</td>\n      <td>-118.20</td>\n      <td>1.62500</td>\n    </tr>\n    <tr>\n      <th>13034</th>\n      <td>6.1359</td>\n      <td>52.0</td>\n      <td>8.275862</td>\n      <td>1.517241</td>\n      <td>6675.0</td>\n      <td>230.172414</td>\n      <td>38.69</td>\n      <td>-121.15</td>\n      <td>2.25000</td>\n    </tr>\n    <tr>\n      <th>15634</th>\n      <td>1.8295</td>\n      <td>52.0</td>\n      <td>2.628169</td>\n      <td>1.053521</td>\n      <td>2957.0</td>\n      <td>4.164789</td>\n      <td>37.80</td>\n      <td>-122.41</td>\n      <td>2.43800</td>\n    </tr>\n    <tr>\n      <th>15652</th>\n      <td>0.9000</td>\n      <td>52.0</td>\n      <td>2.237474</td>\n      <td>1.053535</td>\n      <td>3260.0</td>\n      <td>2.237474</td>\n      <td>37.80</td>\n      <td>-122.41</td>\n      <td>5.00001</td>\n    </tr>\n    <tr>\n      <th>15657</th>\n      <td>2.5166</td>\n      <td>52.0</td>\n      <td>2.839075</td>\n      <td>1.184049</td>\n      <td>3436.0</td>\n      <td>1.621520</td>\n      <td>37.79</td>\n      <td>-122.41</td>\n      <td>2.75000</td>\n    </tr>\n    <tr>\n      <th>15659</th>\n      <td>1.7240</td>\n      <td>52.0</td>\n      <td>2.278566</td>\n      <td>1.082348</td>\n      <td>4518.0</td>\n      <td>1.780142</td>\n      <td>37.79</td>\n      <td>-122.41</td>\n      <td>2.25000</td>\n    </tr>\n    <tr>\n      <th>15795</th>\n      <td>2.5755</td>\n      <td>52.0</td>\n      <td>3.402576</td>\n      <td>1.058776</td>\n      <td>2619.0</td>\n      <td>2.108696</td>\n      <td>37.77</td>\n      <td>-122.42</td>\n      <td>3.25000</td>\n    </tr>\n    <tr>\n      <th>15868</th>\n      <td>2.8135</td>\n      <td>52.0</td>\n      <td>4.584329</td>\n      <td>1.041169</td>\n      <td>2987.0</td>\n      <td>3.966799</td>\n      <td>37.76</td>\n      <td>-122.41</td>\n      <td>2.60300</td>\n    </tr>\n  </tbody>\n</table>\n</div>"
     },
     "execution_count": 14,
     "metadata": {},
     "output_type": "execute_result"
    }
   ],
   "source": [
    "data.loc[(data.HouseAge > 50) & (data.Population > 2500)]"
   ],
   "metadata": {
    "collapsed": false
   }
  },
  {
   "cell_type": "markdown",
   "metadata": {},
   "source": [
    "## Задание 10\n",
    "\n",
    "Узнать максимальное и минимальное значения медианной стоимости дома `(max(), min())`."
   ]
  },
  {
   "cell_type": "code",
   "execution_count": 15,
   "outputs": [
    {
     "data": {
      "text/plain": "(5.00001, 0.14999)"
     },
     "execution_count": 15,
     "metadata": {},
     "output_type": "execute_result"
    }
   ],
   "source": [
    "data.MedHouseVal.max(), data.MedHouseVal.min()"
   ],
   "metadata": {
    "collapsed": false
   }
  },
  {
   "cell_type": "markdown",
   "metadata": {},
   "source": [
    "## Задание 11\n",
    "\n",
    "Используя метод `apply()`, вывести на экран название признака и его среднее значение."
   ]
  },
  {
   "cell_type": "code",
   "execution_count": 16,
   "outputs": [
    {
     "data": {
      "text/plain": "MedInc            3.870671\nHouseAge         28.639486\nAveRooms          5.429000\nAveBedrms         1.096675\nPopulation     1425.476744\nAveOccup          3.070655\nLatitude         35.631861\nLongitude      -119.569704\nMedHouseVal       2.068558\ndtype: float64"
     },
     "execution_count": 16,
     "metadata": {},
     "output_type": "execute_result"
    }
   ],
   "source": [
    "data.apply(lambda x: x.mean())"
   ],
   "metadata": {
    "collapsed": false
   }
  }
 ],
 "metadata": {
  "kernelspec": {
   "display_name": "Python 3 (ipykernel)",
   "language": "python",
   "name": "python3"
  },
  "language_info": {
   "codemirror_mode": {
    "name": "ipython",
    "version": 3
   },
   "file_extension": ".py",
   "mimetype": "text/x-python",
   "name": "python",
   "nbconvert_exporter": "python",
   "pygments_lexer": "ipython3",
   "version": "3.10.6"
  }
 },
 "nbformat": 4,
 "nbformat_minor": 1
}
